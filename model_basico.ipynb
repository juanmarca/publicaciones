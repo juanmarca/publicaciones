{
 "cells": [
  {
   "cell_type": "markdown",
   "id": "constitutional-investing",
   "metadata": {},
   "source": [
    "IMPLEMENTACION DE UN MODELO MULTILABEL CON REDES NEURONALES EN KERAS"
   ]
  },
  {
   "cell_type": "code",
   "execution_count": 1,
   "id": "later-nomination",
   "metadata": {},
   "outputs": [],
   "source": [
    "# Import libraries\n",
    "import pandas as pd\n",
    "from sklearn.preprocessing import MinMaxScaler\n",
    "import os\n",
    "import numpy as np\n",
    "\n",
    "import tensorflow as tf\n",
    "\n",
    "from tensorflow.keras.layers import Dense, Flatten, Conv2D\n",
    "from tensorflow.keras import Model\n",
    "from tensorflow.keras.models import Sequential, load_model"
   ]
  },
  {
   "cell_type": "code",
   "execution_count": null,
   "id": "alpha-zimbabwe",
   "metadata": {},
   "outputs": [],
   "source": [
    "#Primero cargamos los datos"
   ]
  },
  {
   "cell_type": "code",
   "execution_count": 3,
   "id": "protected-repository",
   "metadata": {},
   "outputs": [],
   "source": [
    "df_train = pd.read_csv(\"entrenamiento.csv\",sep=\";\")"
   ]
  },
  {
   "cell_type": "code",
   "execution_count": 5,
   "id": "employed-prisoner",
   "metadata": {},
   "outputs": [],
   "source": [
    "del df_train[\"Unnamed: 0\"]"
   ]
  },
  {
   "cell_type": "code",
   "execution_count": 6,
   "id": "spiritual-smoke",
   "metadata": {},
   "outputs": [
    {
     "data": {
      "text/html": [
       "<div>\n",
       "<style scoped>\n",
       "    .dataframe tbody tr th:only-of-type {\n",
       "        vertical-align: middle;\n",
       "    }\n",
       "\n",
       "    .dataframe tbody tr th {\n",
       "        vertical-align: top;\n",
       "    }\n",
       "\n",
       "    .dataframe thead th {\n",
       "        text-align: right;\n",
       "    }\n",
       "</style>\n",
       "<table border=\"1\" class=\"dataframe\">\n",
       "  <thead>\n",
       "    <tr style=\"text-align: right;\">\n",
       "      <th></th>\n",
       "      <th>fecha_dato</th>\n",
       "      <th>ncodpers</th>\n",
       "      <th>age</th>\n",
       "      <th>antiguedad</th>\n",
       "      <th>nomprov</th>\n",
       "      <th>ind_actividad_cliente</th>\n",
       "      <th>renta</th>\n",
       "      <th>ind_ahor_fin_ult1</th>\n",
       "      <th>ind_aval_fin_ult1</th>\n",
       "      <th>ind_cco_fin_ult1</th>\n",
       "      <th>...</th>\n",
       "      <th>cod_prov_37.0</th>\n",
       "      <th>cod_prov_41.0</th>\n",
       "      <th>cod_prov_45.0</th>\n",
       "      <th>cod_prov_46.0</th>\n",
       "      <th>cod_prov_47.0</th>\n",
       "      <th>cod_prov_48.0</th>\n",
       "      <th>cod_prov_50.0</th>\n",
       "      <th>segmento_01 - TOP</th>\n",
       "      <th>segmento_02 - PARTICULARES</th>\n",
       "      <th>segmento_03 - UNIVERSITARIO</th>\n",
       "    </tr>\n",
       "  </thead>\n",
       "  <tbody>\n",
       "    <tr>\n",
       "      <th>0</th>\n",
       "      <td>2015-05-28</td>\n",
       "      <td>1301259</td>\n",
       "      <td>0.5875</td>\n",
       "      <td>0.042969</td>\n",
       "      <td>LIMA</td>\n",
       "      <td>0.0</td>\n",
       "      <td>0.163021</td>\n",
       "      <td>0</td>\n",
       "      <td>0</td>\n",
       "      <td>1</td>\n",
       "      <td>...</td>\n",
       "      <td>0</td>\n",
       "      <td>0</td>\n",
       "      <td>0</td>\n",
       "      <td>0</td>\n",
       "      <td>0</td>\n",
       "      <td>0</td>\n",
       "      <td>0</td>\n",
       "      <td>1</td>\n",
       "      <td>0</td>\n",
       "      <td>0</td>\n",
       "    </tr>\n",
       "    <tr>\n",
       "      <th>1</th>\n",
       "      <td>2015-05-28</td>\n",
       "      <td>1374821</td>\n",
       "      <td>0.7250</td>\n",
       "      <td>0.023438</td>\n",
       "      <td>LIMA</td>\n",
       "      <td>0.0</td>\n",
       "      <td>0.064536</td>\n",
       "      <td>0</td>\n",
       "      <td>0</td>\n",
       "      <td>0</td>\n",
       "      <td>...</td>\n",
       "      <td>0</td>\n",
       "      <td>0</td>\n",
       "      <td>0</td>\n",
       "      <td>0</td>\n",
       "      <td>0</td>\n",
       "      <td>0</td>\n",
       "      <td>0</td>\n",
       "      <td>1</td>\n",
       "      <td>0</td>\n",
       "      <td>0</td>\n",
       "    </tr>\n",
       "    <tr>\n",
       "      <th>2</th>\n",
       "      <td>2015-05-28</td>\n",
       "      <td>1378928</td>\n",
       "      <td>0.4375</td>\n",
       "      <td>0.023438</td>\n",
       "      <td>LIMA</td>\n",
       "      <td>0.0</td>\n",
       "      <td>0.118521</td>\n",
       "      <td>0</td>\n",
       "      <td>0</td>\n",
       "      <td>1</td>\n",
       "      <td>...</td>\n",
       "      <td>0</td>\n",
       "      <td>0</td>\n",
       "      <td>0</td>\n",
       "      <td>0</td>\n",
       "      <td>0</td>\n",
       "      <td>0</td>\n",
       "      <td>0</td>\n",
       "      <td>1</td>\n",
       "      <td>0</td>\n",
       "      <td>0</td>\n",
       "    </tr>\n",
       "    <tr>\n",
       "      <th>3</th>\n",
       "      <td>2015-05-28</td>\n",
       "      <td>1254961</td>\n",
       "      <td>0.4375</td>\n",
       "      <td>0.023438</td>\n",
       "      <td>LIMA</td>\n",
       "      <td>1.0</td>\n",
       "      <td>0.364076</td>\n",
       "      <td>0</td>\n",
       "      <td>0</td>\n",
       "      <td>0</td>\n",
       "      <td>...</td>\n",
       "      <td>0</td>\n",
       "      <td>0</td>\n",
       "      <td>0</td>\n",
       "      <td>0</td>\n",
       "      <td>0</td>\n",
       "      <td>0</td>\n",
       "      <td>0</td>\n",
       "      <td>1</td>\n",
       "      <td>0</td>\n",
       "      <td>0</td>\n",
       "    </tr>\n",
       "    <tr>\n",
       "      <th>4</th>\n",
       "      <td>2015-05-28</td>\n",
       "      <td>759864</td>\n",
       "      <td>0.4625</td>\n",
       "      <td>0.339844</td>\n",
       "      <td>UCAYALI</td>\n",
       "      <td>0.0</td>\n",
       "      <td>0.088534</td>\n",
       "      <td>0</td>\n",
       "      <td>0</td>\n",
       "      <td>0</td>\n",
       "      <td>...</td>\n",
       "      <td>0</td>\n",
       "      <td>0</td>\n",
       "      <td>0</td>\n",
       "      <td>0</td>\n",
       "      <td>0</td>\n",
       "      <td>0</td>\n",
       "      <td>0</td>\n",
       "      <td>1</td>\n",
       "      <td>0</td>\n",
       "      <td>0</td>\n",
       "    </tr>\n",
       "  </tbody>\n",
       "</table>\n",
       "<p>5 rows × 60 columns</p>\n",
       "</div>"
      ],
      "text/plain": [
       "   fecha_dato  ncodpers     age  antiguedad  nomprov  ind_actividad_cliente  \\\n",
       "0  2015-05-28   1301259  0.5875    0.042969     LIMA                    0.0   \n",
       "1  2015-05-28   1374821  0.7250    0.023438     LIMA                    0.0   \n",
       "2  2015-05-28   1378928  0.4375    0.023438     LIMA                    0.0   \n",
       "3  2015-05-28   1254961  0.4375    0.023438     LIMA                    1.0   \n",
       "4  2015-05-28    759864  0.4625    0.339844  UCAYALI                    0.0   \n",
       "\n",
       "      renta  ind_ahor_fin_ult1  ind_aval_fin_ult1  ind_cco_fin_ult1  ...  \\\n",
       "0  0.163021                  0                  0                 1  ...   \n",
       "1  0.064536                  0                  0                 0  ...   \n",
       "2  0.118521                  0                  0                 1  ...   \n",
       "3  0.364076                  0                  0                 0  ...   \n",
       "4  0.088534                  0                  0                 0  ...   \n",
       "\n",
       "   cod_prov_37.0  cod_prov_41.0  cod_prov_45.0  cod_prov_46.0  cod_prov_47.0  \\\n",
       "0              0              0              0              0              0   \n",
       "1              0              0              0              0              0   \n",
       "2              0              0              0              0              0   \n",
       "3              0              0              0              0              0   \n",
       "4              0              0              0              0              0   \n",
       "\n",
       "   cod_prov_48.0  cod_prov_50.0  segmento_01 - TOP  \\\n",
       "0              0              0                  1   \n",
       "1              0              0                  1   \n",
       "2              0              0                  1   \n",
       "3              0              0                  1   \n",
       "4              0              0                  1   \n",
       "\n",
       "   segmento_02 - PARTICULARES  segmento_03 - UNIVERSITARIO  \n",
       "0                           0                            0  \n",
       "1                           0                            0  \n",
       "2                           0                            0  \n",
       "3                           0                            0  \n",
       "4                           0                            0  \n",
       "\n",
       "[5 rows x 60 columns]"
      ]
     },
     "execution_count": 6,
     "metadata": {},
     "output_type": "execute_result"
    }
   ],
   "source": [
    "df_train.head() # visualizamos los datos"
   ]
  },
  {
   "cell_type": "code",
   "execution_count": 9,
   "id": "suffering-english",
   "metadata": {},
   "outputs": [],
   "source": [
    "# seleccionamos los features"
   ]
  },
  {
   "cell_type": "code",
   "execution_count": 10,
   "id": "clean-reader",
   "metadata": {},
   "outputs": [],
   "source": [
    "cols=['age',\n",
    " 'antiguedad',\n",
    " 'renta',\n",
    " 'sexo_H',\n",
    " 'sexo_V',\n",
    " 'canal_entrada_DISPLAY',\n",
    " 'canal_entrada_EMAIL MARKETING',\n",
    " 'canal_entrada_MOBILE ADS',\n",
    " 'canal_entrada_PUBLICIDAD NATIVA',\n",
    " 'canal_entrada_RETARGETING DINAMICO',\n",
    " 'canal_entrada_SOCIAL ADS',\n",
    " 'cod_prov_3.0',\n",
    " 'cod_prov_8.0',\n",
    " 'cod_prov_11.0',\n",
    " 'cod_prov_15.0',\n",
    " 'cod_prov_18.0',\n",
    " 'cod_prov_28.0',\n",
    " 'cod_prov_29.0',\n",
    " 'cod_prov_30.0',\n",
    " 'cod_prov_33.0',\n",
    " 'cod_prov_35.0',\n",
    " 'cod_prov_36.0',\n",
    " 'cod_prov_37.0',\n",
    " 'cod_prov_41.0',\n",
    " 'cod_prov_45.0',\n",
    " 'cod_prov_46.0',\n",
    " 'cod_prov_47.0',\n",
    " 'cod_prov_48.0',\n",
    " 'cod_prov_50.0',\n",
    " 'segmento_01 - TOP',\n",
    " 'segmento_02 - PARTICULARES',\n",
    " 'segmento_03 - UNIVERSITARIO']"
   ]
  },
  {
   "cell_type": "code",
   "execution_count": null,
   "id": "bigger-invalid",
   "metadata": {},
   "outputs": [],
   "source": [
    "#seleccionamos los target"
   ]
  },
  {
   "cell_type": "code",
   "execution_count": 12,
   "id": "amended-floor",
   "metadata": {},
   "outputs": [],
   "source": [
    "currcols=['ind_ahor_fin_ult1',\n",
    " 'ind_aval_fin_ult1',\n",
    " 'ind_cco_fin_ult1',\n",
    " 'ind_cder_fin_ult1',\n",
    " 'ind_cno_fin_ult1',\n",
    " 'ind_ctju_fin_ult1',\n",
    " 'ind_ctma_fin_ult1',\n",
    " 'ind_ctop_fin_ult1',\n",
    " 'ind_ctpp_fin_ult1',\n",
    " 'ind_deco_fin_ult1',\n",
    " 'ind_deme_fin_ult1',\n",
    " 'ind_dela_fin_ult1',\n",
    " 'ind_ecue_fin_ult1',\n",
    " 'ind_fond_fin_ult1',\n",
    " 'ind_hip_fin_ult1',\n",
    " 'ind_plan_fin_ult1',\n",
    " 'ind_pres_fin_ult1',\n",
    " 'ind_reca_fin_ult1',\n",
    " 'ind_tjcr_fin_ult1',\n",
    " 'ind_valo_fin_ult1',\n",
    " 'ind_viv_fin_ult1',\n",
    " 'ind_nomina_ult1',\n",
    " 'ind_nom_pens_ult1',\n",
    " 'ind_recibo_ult1']"
   ]
  },
  {
   "cell_type": "code",
   "execution_count": null,
   "id": "minimal-course",
   "metadata": {},
   "outputs": [],
   "source": [
    "#SELECCIONAMOS EL TRAIN Y TEST"
   ]
  },
  {
   "cell_type": "code",
   "execution_count": 14,
   "id": "designed-memphis",
   "metadata": {},
   "outputs": [],
   "source": [
    "x_train = df_train[cols]\n",
    "y_train =df_train[currcols]"
   ]
  },
  {
   "cell_type": "code",
   "execution_count": null,
   "id": "irish-miami",
   "metadata": {},
   "outputs": [],
   "source": [
    "#COMENZAMOS CON EL MODELO"
   ]
  },
  {
   "cell_type": "code",
   "execution_count": 17,
   "id": "concrete-capability",
   "metadata": {},
   "outputs": [],
   "source": [
    "model = Sequential() # Define tu red neuronal, para este ejemplo es un NN basico\n",
    "\n",
    "#Definimos nuestra capa de entrada\n",
    "model.add(Dense(150, input_dim=x_train.shape[1], activation = 'relu'))\n",
    "#El primer parametro se refiere a la cantidad de neuronas \n",
    "\n",
    "model.add(Dense(24, activation = 'sigmoid')) #Definimos cuantas variables de salida tiene tu modelo, en nuestro ejemplo\n",
    "#tenemos 24 etiquetas.\n",
    "#-PARA CASOS MULTILABEL USAMOS LA FUNCION DE ACTIVACION SIGMOID, POR QUE ESTA NOS DA PROBABILIDADES\n",
    "#INDEPENDIENTES, CUANDO EL CASO SEA UNA MULTICLASE ( MAS DE UNA CLASE EN TU VARIABLE PREDICTORA) ES RECOMENDABLE USAR LA FUNCION DE SOFTMAX,\n",
    "#LAS PROBABILIDADES SUMAN 1\n",
    "\n",
    "\n",
    "model.compile(loss = 'binary_crossentropy', optimizer = 'adam') # Compilamos el modelo con una una funcion de perdida \"binary_crossentropy\",\n",
    "#es para clasificación binaria de múltiples etiquetas (las etiquetas son independientes) y usaremos categorical_crossentropy cuando\n",
    "#tengamos una clasificacion multiclase"
   ]
  },
  {
   "cell_type": "code",
   "execution_count": 19,
   "id": "through-workplace",
   "metadata": {},
   "outputs": [
    {
     "name": "stdout",
     "output_type": "stream",
     "text": [
      "Average test loss:  0.19832436591386796\n"
     ]
    }
   ],
   "source": [
    "history=model.fit(x_train.values, y_train.values, validation_split=0.2,epochs=50, batch_size=20) ## Entrenamos nuestro modelo, ingresamos\n",
    "# la matriz de x e y, definimos la particion de datos que tomara en la validacion cruzada, definimos el \"batch_size\" que es la cantidad\n",
    "#de muestras que tomara, la eleccion de un batch size pequeño causara ruido ya que una muestra pequeña no es una buena representacion de los datos\n",
    "#y uno grande puede causar problemas con la memoria de la instancia que ejecutas, una practica comun es ejecutar el resultado de la raiz cuadrada\n",
    "# de tu cantidad de datos. Los epochs ejecuta el algoritmo hasta minimizar el error."
   ]
  },
  {
   "cell_type": "code",
   "execution_count": null,
   "id": "written-defeat",
   "metadata": {},
   "outputs": [],
   "source": [
    "model.results"
   ]
  },
  {
   "cell_type": "code",
   "execution_count": null,
   "id": "cellular-blowing",
   "metadata": {},
   "outputs": [],
   "source": [
    "model.save(\"model_save/\" + 'trained_model.h5') # por ultimo guardamos el modelo para que pueda ser consumido en cualquier momento!"
   ]
  },
  {
   "cell_type": "code",
   "execution_count": null,
   "id": "unsigned-hotel",
   "metadata": {},
   "outputs": [],
   "source": [
    "results"
   ]
  }
 ],
 "metadata": {
  "environment": {
   "name": "common-cpu.mnightly-2021-02-12-debian-10-test",
   "type": "gcloud",
   "uri": "gcr.io/deeplearning-platform-release/base-cpu:mnightly-2021-02-12-debian-10-test"
  },
  "kernelspec": {
   "display_name": "Python 3",
   "language": "python",
   "name": "python3"
  },
  "language_info": {
   "codemirror_mode": {
    "name": "ipython",
    "version": 3
   },
   "file_extension": ".py",
   "mimetype": "text/x-python",
   "name": "python",
   "nbconvert_exporter": "python",
   "pygments_lexer": "ipython3",
   "version": "3.7.9"
  }
 },
 "nbformat": 4,
 "nbformat_minor": 5
}
